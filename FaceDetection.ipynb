{
 "cells": [
  {
   "cell_type": "code",
   "execution_count": 3,
   "metadata": {},
   "outputs": [],
   "source": [
    "import cvlib as cv\n",
    "import cv2\n",
    "from PIL import Image\n",
    "\n",
    "import os\n",
    "\n",
    "import tensorflow as tf\n",
    "from tensorflow import keras"
   ]
  },
  {
   "cell_type": "code",
   "execution_count": 4,
   "metadata": {},
   "outputs": [
    {
     "name": "stdout",
     "output_type": "stream",
     "text": [
      "WARNING:tensorflow:Model was constructed with shape (None, 224, 224, 3) for input Tensor(\"input_1_1:0\", shape=(None, 224, 224, 3), dtype=float32), but it was called on an input with incompatible shape (None, 160, 160, 3).\n"
     ]
    }
   ],
   "source": [
    "loaded_model = tf.keras.models.load_model('models/face_detection.h5')"
   ]
  },
  {
   "cell_type": "code",
   "execution_count": null,
   "metadata": {},
   "outputs": [],
   "source": [
    "cap = cv2.VideoCapture(0)\n",
    "\n",
    "font_scale=1\n",
    "thickness = 2\n",
    "red = (0,0,255)\n",
    "green = (0,255,0)\n",
    "blue = (255,0,0)\n",
    "font=cv2.FONT_HERSHEY_SIMPLEX\n",
    "\n",
    "#File must be downloaded\n",
    "face_cascade = cv2.CascadeClassifier('haarcascade_frontalface_default.xml')\n",
    "\n",
    "\n",
    "while(cap.isOpened()):\n",
    "    ret, frame = cap.read()\n",
    "    if ret == True:\n",
    "\n",
    "        gray = cv2.cvtColor(frame, cv2.COLOR_BGR2GRAY)\n",
    "        faces = face_cascade.detectMultiScale(gray, 1.4, 4)\n",
    "        \n",
    "        for (x, y, w, h) in faces:\n",
    "            \n",
    "            cv2.rectangle(frame, (x, y), (x+w, y+h), blue, 2)\n",
    "            \n",
    "            croped_img = frame[y:y+h, x:x+w]\n",
    "            pil_image = Image.fromarray(croped_img, mode = \"RGB\")\n",
    "            pil_image = train_transforms(pil_image)\n",
    "            image = pil_image.unsqueeze(0)\n",
    "            \n",
    "            \n",
    "            result = loaded_model(image)\n",
    "            _, maximum = torch.max(result.data, 1)\n",
    "            prediction = maximum.item()\n",
    "\n",
    "            \n",
    "            if prediction == 0:\n",
    "                cv2.putText(frame, \"Masked\", (x,y - 10), font, font_scale, green, thickness)\n",
    "                cv2.rectangle(frame, (x, y), (x+w, y+h), green, 2)\n",
    "            elif prediction == 1:\n",
    "                cv2.putText(frame, \"No Mask\", (x,y - 10), font, font_scale, red, thickness)\n",
    "                cv2.rectangle(frame, (x, y), (x+w, y+h), red, 2)\n",
    "        \n",
    "        cv2.imshow('frame',frame)\n",
    "        \n",
    "        if (cv2.waitKey(1) & 0xFF) == ord('q'):\n",
    "            break\n",
    "    else:\n",
    "        break\n",
    "\n",
    "cap.release()\n",
    "cv2.destroyAllWindows()\n",
    "\n"
   ]
  },
  {
   "cell_type": "code",
   "execution_count": null,
   "metadata": {},
   "outputs": [],
   "source": [
    "    \n",
    "pil_image = Image.fromarray(croped_img, mode = \"RGB\")\n",
    "pil_image = train_transforms(pil_image)\n",
    "image = pil_image.unsqueeze(0)\n",
    "\n",
    "\n",
    "result = loaded_model(image.to(\"cuda:0\"))\n",
    "m, maximum = torch.max(result.data, 1)\n",
    "prediction = maximum.item()\n",
    "print(\"Maximum: \", result.data, \" \", prediction, m)"
   ]
  },
  {
   "cell_type": "code",
   "execution_count": null,
   "metadata": {},
   "outputs": [],
   "source": []
  }
 ],
 "metadata": {
  "kernelspec": {
   "display_name": "Python 3",
   "language": "python",
   "name": "python3"
  },
  "language_info": {
   "codemirror_mode": {
    "name": "ipython",
    "version": 3
   },
   "file_extension": ".py",
   "mimetype": "text/x-python",
   "name": "python",
   "nbconvert_exporter": "python",
   "pygments_lexer": "ipython3",
   "version": "3.7.5"
  }
 },
 "nbformat": 4,
 "nbformat_minor": 4
}
